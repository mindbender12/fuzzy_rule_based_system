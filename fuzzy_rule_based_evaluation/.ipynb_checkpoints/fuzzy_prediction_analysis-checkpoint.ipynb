{
 "cells": [
  {
   "cell_type": "code",
   "execution_count": 1,
   "metadata": {
    "collapsed": true
   },
   "outputs": [],
   "source": [
    "## Imports\n",
    "################################\n",
    "\n",
    "import sys\n",
    "import subprocess\n",
    "import re\n",
    "import os\n",
    "import csv\n",
    "import random\n",
    "from shutil import copyfile\n",
    "import time\n",
    "import math\n",
    "import pandas as pd\n",
    "import matplotlib.pyplot as plt\n",
    "import matplotlib.image as mpimg\n",
    "import numpy as np\n",
    "import cmath\n",
    "import sklearn.preprocessing as skpreprop\n",
    "from scipy.spatial.distance import pdist, squareform\n",
    "from numpy import linalg as LA\n",
    "import matplotlib.mlab as mlab\n",
    "\n",
    "from sklearn import manifold, datasets\n",
    "from sklearn.manifold import MDS\n",
    "from sklearn.decomposition import PCA"
   ]
  },
  {
   "cell_type": "code",
   "execution_count": 8,
   "metadata": {
    "collapsed": true
   },
   "outputs": [],
   "source": [
    "#Evaluate gaussian membership func\n",
    "def eval_gmf(mu,sigma,val):    \n",
    "    retval=0\n",
    "    num = (mu-val)*(mu-val)\n",
    "    denom = 2*sigma*sigma\n",
    "    \n",
    "    if sigma > 0:\n",
    "        retval = math.exp(-(num/denom))\n",
    "        \n",
    "    return retval\n",
    "\n",
    "#Draw gaussian membership func\n",
    "def draw_gaussian(mu,sigma,col,j,minval,maxval,label_id): \n",
    "    numSample = 100\n",
    "    plt.subplot(3, 1, j+1)\n",
    "    y=[]\n",
    "    x = np.linspace(minval,maxval, numSample)\n",
    "    \n",
    "    for i in range(numSample):\n",
    "        y.append(eval_gmf(mu,sigma,x[i]))    \n",
    "       \n",
    "    plt.plot(x,y,color=col,linewidth=2.5,alpha=0.8,label='Rule ' + str(label_id+1))\n",
    "    plt.xlabel('Value range',fontsize=20)\n",
    "    plt.ylabel('Membership',fontsize=20)"
   ]
  },
  {
   "cell_type": "code",
   "execution_count": 5,
   "metadata": {
    "collapsed": false
   },
   "outputs": [],
   "source": [
    "## Load the fuzzy rule-base\n",
    "########################################\n",
    "\n",
    "rule_num = 3\n",
    "num_dim = 3\n",
    "colors = ['red','green','blue','cyan','orange','black','gray','violet']\n",
    "\n",
    "# inpMemFile = '/home/soumya/Dropbox/Codes/0VIS2017_codes/generate_turbine_training_data/used_for_pvis2018/inputmfs_new.txt'\n",
    "# opMemFile = '/home/soumya/Dropbox/Codes/0VIS2017_codes/generate_turbine_training_data/used_for_pvis2018/outputmfs_new.txt'\n",
    "inpMemFile = '/home/soumya/Dropbox/Codes/0VIS2017_codes/cross_validation/inputmfs_new.txt'\n",
    "opMemFile = '/home/soumya/Dropbox/Codes/0VIS2017_codes/cross_validation/outputmfs_new.txt'\n",
    "\n",
    "inputMemberships = np.loadtxt(inpMemFile,delimiter=',')\n",
    "outputMemberships = np.loadtxt(opMemFile,delimiter=',')\n",
    "\n",
    "# #testFile = '/home/soumya/Dropbox/Codes/0VIS2017_codes/feature_picking_turbine_interface/build/sample_set_in.txt'\n",
    "# #groundTruth = '/home/soumya/Dropbox/Codes/0VIS2017_codes/feature_picking_turbine_interface/build/sample_set_out.txt'\n",
    "\n",
    "# testFile = '/home/soumya/Dropbox/Codes/0VIS2017_codes/feature_picking_turbine_interface/pvis2018_test_data/sample_set_in.txt'\n",
    "# groundTruth = '/home/soumya/Dropbox/Codes/0VIS2017_codes/feature_picking_turbine_interface/pvis2018_test_data/sample_set_out.txt'\n",
    "\n",
    "### training data loading\n",
    "trainingFile = '/home/soumya/Dropbox/Codes/0VIS2017_codes/cross_validation/final_train_in.txt'\n",
    "trainingData = np.loadtxt(trainingFile,delimiter=',')\n",
    "ipTrainMax=[]\n",
    "ipTrainMin=[]\n",
    "for i in range(num_dim):\n",
    "    ipTrainMax.append(np.max(trainingData[:,i]))\n",
    "    ipTrainMin.append(np.min(trainingData[:,i]))\n",
    "    \n",
    "# # print ('training data ranges for three variables: ')    \n",
    "# # for i in range(num_dim):\n",
    "# #     print (ipTrainMin[i],ipTrainMax[i])\n",
    "\n",
    "# ####################################################################    \n",
    "# ## call the fuzzy evaluator\n",
    "# command = './fuzzy_eval ' + str(rule_num) + ' ' + str(num_dim) + ' ' + inpMemFile + ' ' + opMemFile + ' ' + testFile\n",
    "# os.system(command)   \n",
    "\n",
    "# print ('done')"
   ]
  },
  {
   "cell_type": "code",
   "execution_count": 32,
   "metadata": {
    "collapsed": false,
    "scrolled": true
   },
   "outputs": [
    {
     "name": "stdout",
     "output_type": "stream",
     "text": [
      "Using matplotlib backend: Qt4Agg\n",
      "total number of test points: 468308\n",
      "Percentage accuracy is: 98.1183323795\n",
      "Minimum and maximum prediction deviations are (0.0,0.489508)\n"
     ]
    }
   ],
   "source": [
    "## Accuracy computation of fuzzy prediction model\n",
    "#####################################################\n",
    "%matplotlib\n",
    "outPredicted = np.loadtxt('outPredicted.csv')\n",
    "actualOP = np.loadtxt(groundTruth)\n",
    "\n",
    "print ('total number of test points: ' + str(np.shape(actualOP)[0]))\n",
    "\n",
    "## prediction within 0.1 is considered accurate enough\n",
    "count=0\n",
    "for i in range(np.shape(outPredicted)[0]):\n",
    "    if abs(outPredicted[i]-actualOP[i]) > 0.2:\n",
    "        count=count+1\n",
    "        \n",
    "## percentage accuracy\n",
    "print ('Percentage accuracy is: ' + str(100-count/float(len(outPredicted))*100))        \n",
    "\n",
    "diff = abs(actualOP - outPredicted)\n",
    "print ('Minimum and maximum prediction deviations are (' + str(np.min(diff)) + ',' + str(np.max(diff)) + ')')\n",
    "\n",
    "plt.hist(diff,bins=128,alpha=0.3)\n",
    "plt.title('Histogram of prediction deviations',size=20)\n",
    "plt.xlabel('Deviation of predictions',size=18)\n",
    "plt.show()"
   ]
  },
  {
   "cell_type": "code",
   "execution_count": 11,
   "metadata": {
    "collapsed": false
   },
   "outputs": [
    {
     "name": "stdout",
     "output_type": "stream",
     "text": [
      "Using matplotlib backend: Qt4Agg\n"
     ]
    }
   ],
   "source": [
    "## Plot membership functions\n",
    "############################################\n",
    "\n",
    "%matplotlib\n",
    "\n",
    "fig = plt.figure(figsize=(8,8))\n",
    "ax1 = fig.add_subplot(311)\n",
    "ax2 = fig.add_subplot(312)\n",
    "ax3 = fig.add_subplot(313)\n",
    "\n",
    "ax1.set_ylim(0,1.1)\n",
    "ax2.set_ylim(0,1.1)\n",
    "ax3.set_ylim(0,1.1)\n",
    "ax1.set_xlim(0,1.1)\n",
    "ax2.set_xlim(0,1.1)\n",
    "ax3.set_xlim(0,1.1)\n",
    "\n",
    "ax1.set_title('Membership functions of Uvelocity',fontsize=26)\n",
    "ax2.set_title('Membership functions of Entropy',fontsize=26)\n",
    "ax3.set_title('Membership functions of Temperature',fontsize=26)\n",
    "\n",
    "for j in range(num_dim):\n",
    "    for i in range(rule_num):\n",
    "        id = i + j*rule_num\n",
    "        draw_gaussian(inputMemberships[id][1],inputMemberships[id][0],colors[i],j,ipTrainMin[j],ipTrainMax[j],i)\n",
    "\n",
    "plt.tight_layout()\n",
    "plt.legend(loc=\"upper right\")\n",
    "plt.show()"
   ]
  }
 ],
 "metadata": {
  "kernelspec": {
   "display_name": "Python 2",
   "language": "python",
   "name": "python2"
  },
  "language_info": {
   "codemirror_mode": {
    "name": "ipython",
    "version": 2
   },
   "file_extension": ".py",
   "mimetype": "text/x-python",
   "name": "python",
   "nbconvert_exporter": "python",
   "pygments_lexer": "ipython2",
   "version": "2.7.12"
  }
 },
 "nbformat": 4,
 "nbformat_minor": 1
}
