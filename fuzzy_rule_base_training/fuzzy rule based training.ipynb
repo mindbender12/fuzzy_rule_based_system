{
 "cells": [
  {
   "cell_type": "code",
   "execution_count": 1,
   "metadata": {
    "collapsed": false
   },
   "outputs": [],
   "source": [
    "import pandas as pd\n",
    "import numpy as np\n",
    "import random\n",
    "import operator\n",
    "import math   "
   ]
  },
  {
   "cell_type": "code",
   "execution_count": 8,
   "metadata": {
    "collapsed": true
   },
   "outputs": [],
   "source": [
    "## Fuzzy c means clustering algorithm\n",
    "def compute_fuzzy_c_means(df,m,MAX_ITER,k):       \n",
    "\n",
    "    def initializeMembershipMatrix():\n",
    "        membership_mat = list()\n",
    "        for i in range(n):\n",
    "            random_num_list = [random.random() for i in range(k)]\n",
    "            summation = sum(random_num_list)\n",
    "            temp_list = [x/summation for x in random_num_list]\n",
    "            membership_mat.append(temp_list)\n",
    "        return membership_mat\n",
    "\n",
    "\n",
    "    def calculateClusterCenter(membership_mat):\n",
    "        cluster_mem_val = zip(*membership_mat)\n",
    "        cluster_centers = list()\n",
    "        for j in range(k):\n",
    "            x = list(cluster_mem_val[j])\n",
    "            xraised = [e ** m for e in x]\n",
    "            denominator = sum(xraised)\n",
    "            temp_num = list()\n",
    "            for i in range(n):\n",
    "                data_point = list(df.iloc[i])\n",
    "                prod = [xraised[i] * val for val in data_point]\n",
    "                temp_num.append(prod)\n",
    "            numerator = map(sum, zip(*temp_num))\n",
    "            center = [z/denominator for z in numerator]\n",
    "            cluster_centers.append(center)\n",
    "        return cluster_centers\n",
    "\n",
    "\n",
    "    def updateMembershipValue(membership_mat, cluster_centers):\n",
    "        p = float(2/(m-1))\n",
    "        for i in range(n):\n",
    "            x = list(df.iloc[i])\n",
    "            distances = [np.linalg.norm(map(operator.sub, x, cluster_centers[j])) for j in range(k)]\n",
    "            for j in range(k):\n",
    "                den = sum([math.pow(float(distances[j]/distances[c]), p) for c in range(k)])\n",
    "                membership_mat[i][j] = float(1/den)       \n",
    "        return membership_mat\n",
    "\n",
    "\n",
    "    def getClusters(membership_mat):\n",
    "        cluster_labels = list()\n",
    "        for i in range(n):\n",
    "            max_val, idx = max((val, idx) for (idx, val) in enumerate(membership_mat[i]))\n",
    "            cluster_labels.append(idx)\n",
    "        return cluster_labels\n",
    "\n",
    "\n",
    "    def fuzzyCMeansClustering():\n",
    "        # Membership Matrix\n",
    "        membership_mat = initializeMembershipMatrix()\n",
    "        curr = 0\n",
    "        while curr <= MAX_ITER:\n",
    "            cluster_centers = calculateClusterCenter(membership_mat)\n",
    "            membership_mat = updateMembershipValue(membership_mat, cluster_centers)\n",
    "            cluster_labels = getClusters(membership_mat)\n",
    "            curr += 1\n",
    "        return cluster_labels, cluster_centers, membership_mat\n",
    "    \n",
    "    # Number of Attributes\n",
    "    num_attr = len(df.columns)\n",
    "\n",
    "    # Number of data points\n",
    "    n = len(df)\n",
    "    \n",
    "    labels, centers, membership_mat = fuzzyCMeansClustering()\n",
    "    return centers, labels, membership_mat"
   ]
  },
  {
   "cell_type": "code",
   "execution_count": 3,
   "metadata": {
    "collapsed": false
   },
   "outputs": [],
   "source": [
    "## compute output parameters\n",
    "\n",
    "# df = input appended with output where the last column is \n",
    "## construct the A matrix and b matrix and solve for x: Eq: Ax = b\n",
    "def compute_out_params(df):\n",
    "    A = np.asarray(df) \n",
    "    b = A[:,len(A[0])-1]\n",
    "    A = A[:,0:len(A[0])-1]\n",
    "\n",
    "    b = np.reshape(b,(len(A),1))\n",
    "\n",
    "    c = np.ones(len(A))\n",
    "    c = np.reshape(c,(len(A),1))\n",
    "\n",
    "    ## A matrix has input and an additional column of 1's. \n",
    "    A = np.append(A,c,axis=1)\n",
    "\n",
    "    ## solve the linear least square problem\n",
    "    x = np.linalg.lstsq(A,b)\n",
    "\n",
    "    return np.transpose(x[0])    "
   ]
  },
  {
   "cell_type": "code",
   "execution_count": 4,
   "metadata": {
    "collapsed": false
   },
   "outputs": [],
   "source": [
    "## compute input parameters, i.e., mean and sigma for Gaussian membership function\n",
    "## source: invgaussmf4sigma() function in fuzzy toolbox in matlab\n",
    "\n",
    "def compute_in_params(cluster_centers, membership_mat, df):\n",
    "    \n",
    "    numCluster = np.shape(cluster_centers)[0]\n",
    "    numVars  = np.shape(cluster_centers)[1]\n",
    "    numVars = numVars-1 ## consider only input variables\n",
    "    cluster_centers = np.asarray(cluster_centers)[:,0:numVars]\n",
    "    numPts = len(df)\n",
    "    invals = np.asarray(df) \n",
    "    invals = invals[:,0:numVars]\n",
    "    #print np.shape(invals), np.shape(membership_mat), np.shape(cluster_centers)\n",
    "    \n",
    "    inpMemParams = [] \n",
    "    \n",
    "    for i in range(numVars):\n",
    "        val = 0\n",
    "        for j in range(numCluster):\n",
    "            val=0\n",
    "            for k in range(numPts):\n",
    "                temp = ((cluster_centers[j][i]-invals[k][i])*(cluster_centers[j][i]-invals[k][i])) / (2*math.log(membership_mat[k][j]))\n",
    "                val = val + math.sqrt(-temp)\n",
    "             \n",
    "            val = (val)/numPts \n",
    "            inpMemParams.append([val, cluster_centers[j][i]])\n",
    "    return np.asarray(inpMemParams)"
   ]
  },
  {
   "cell_type": "code",
   "execution_count": 9,
   "metadata": {
    "collapsed": false
   },
   "outputs": [
    {
     "name": "stdout",
     "output_type": "stream",
     "text": [
      "Estimated input Gaussian parameters are: \n",
      "[[ 0.55194296  6.77511899]\n",
      " [ 0.64447186  5.00356137]\n",
      " [ 0.45281161  5.88919979]\n",
      " [ 0.22235685  3.05243091]\n",
      " [ 0.50275039  3.40303567]\n",
      " [ 0.28005446  2.76123495]\n",
      " [ 0.87595928  5.64691443]\n",
      " [ 1.03194621  1.48500156]\n",
      " [ 0.75944201  4.36425513]]\n",
      "Estimated output parameters are: \n",
      "[[-0.21027133  0.22877721  0.52608818 -0.24872359]]\n"
     ]
    }
   ],
   "source": [
    "## Load data and perform fuzzy rule based training\n",
    "\n",
    "# Number of Clusters / number of rules\n",
    "k = 3\n",
    "# Maximum number of iterations for fuzzy c-means\n",
    "MAX_ITER = 250\n",
    "# Fuzzy parameter\n",
    "m = 2.00\n",
    "\n",
    "## input data in the form of csv file has output appended as the last column\n",
    "##load data\n",
    "df_full = pd.read_csv(\"in.csv\")\n",
    "columns = list(df_full.columns)\n",
    "features = columns\n",
    "df = df_full[features]    \n",
    "    \n",
    "centers, labels, membership_mat = compute_fuzzy_c_means(df,m,MAX_ITER,k) \n",
    "\n",
    "inParams = compute_in_params(centers, membership_mat, df)   \n",
    "print 'Estimated input Gaussian parameters are: '\n",
    "print inParams\n",
    "\n",
    "outParams = compute_out_params(df)\n",
    "print 'Estimated output parameters are: '\n",
    "print outParams\n",
    "\n",
    "np.savetxt('inputParams.txt',inParams,delimiter=',',fmt='%f')\n",
    "np.savetxt('outputParams.txt',outParams,delimiter=',',fmt='%f')"
   ]
  }
 ],
 "metadata": {
  "kernelspec": {
   "display_name": "Python 2",
   "language": "python",
   "name": "python2"
  },
  "language_info": {
   "codemirror_mode": {
    "name": "ipython",
    "version": 2
   },
   "file_extension": ".py",
   "mimetype": "text/x-python",
   "name": "python",
   "nbconvert_exporter": "python",
   "pygments_lexer": "ipython2",
   "version": "2.7.12"
  }
 },
 "nbformat": 4,
 "nbformat_minor": 0
}
